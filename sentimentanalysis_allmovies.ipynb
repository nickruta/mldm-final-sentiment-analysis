{
 "cells": [
  {
   "cell_type": "markdown",
   "metadata": {},
   "source": [
    "# Create a Pandas DataFrame from the tweets data"
   ]
  },
  {
   "cell_type": "code",
   "execution_count": 1,
   "metadata": {
    "collapsed": false
   },
   "outputs": [
    {
     "name": "stdout",
     "output_type": "stream",
     "text": [
      "Number of tweets for aceventura_tweets.txt -  37\n",
      "Number of tweets for Assassins_tweets.txt -  634\n",
      "Number of tweets for balto_tweets.txt -  2527\n",
      "Number of tweets for casino_tweets.txt -  328\n",
      "Number of tweets for cityoflostchildren_tweets.txt -  128\n",
      "Number of tweets for copycat_tweets.txt -  251\n",
      "Number of tweets for cutthroatisland_tweets.txt -  24\n",
      "Number of tweets for dracula_tweets.txt -  22\n",
      "Number of tweets for getshorty_tweets.txt -  10424\n",
      "Number of tweets for LeavingLasVegas_tweets.txt -  619\n",
      "Number of tweets for moneytrain_tweets.txt -  6108\n",
      "Number of tweets for nixon_tweets_weak.txt -  85\n",
      "Number of tweets for nowandthen_tweets.txt -  480\n",
      "Number of tweets for othello_tweets.txt -  17\n",
      "Number of tweets for Persuasion_tweets.txt -  19\n",
      "Number of tweets for Powder_tweets.txt -  62\n",
      "Number of tweets for senseandsensibility_tweets.txt -  717\n",
      "Number of tweets for starwars_tweets.txt -  120761\n",
      "Number of tweets for thehungergames_tweets.txt -  145977\n"
     ]
    }
   ],
   "source": [
    "import os\n",
    "import json\n",
    "import pandas as pd\n",
    "%matplotlib inline\n",
    "import matplotlib.pyplot as plt\n",
    "\n",
    "\n",
    "#list the files\n",
    "filelist = os.listdir('../movie_tweets') \n",
    "\n",
    "tweets = pd.DataFrame()\n",
    "\n",
    "for file in filelist:\n",
    "    if file == \".DS_Store\":\n",
    "        continue\n",
    "        \n",
    "        #create a list to hold the tweets\n",
    "    raw_data = []\n",
    "\n",
    "    #create and open the new file\n",
    "    tweets_file = open('../movie_tweets/'+file, \"rb\")\n",
    "\n",
    "    #append to the tweets list from the raw data file\n",
    "    for line in tweets_file:\n",
    "        try:\n",
    "            tweet = json.loads(line)\n",
    "            raw_data.append(tweet)\n",
    "        except:\n",
    "            continue       \n",
    "    print \"Number of tweets for \" + file + \" - \", len(raw_data)\n",
    "    \n",
    "\n",
    "    \n",
    "    \n",
    "    \n",
    "    \n",
    "    tempDF = pd.DataFrame()\n",
    "    #removed u'possibly_sensitive', at the moment since not all rows have it\n",
    "    #it goes between place and retweet_count in the below list\n",
    "    twitter_fields = [u'contributors', u'coordinates', u'created_at', u'entities', \n",
    "                      u'favorite_count', u'favorited',  u'geo', u'id',\n",
    "                      u'id_str', u'in_reply_to_screen_name', u'in_reply_to_status_id', \n",
    "                      u'in_reply_to_status_id_str', u'in_reply_to_user_id', u'in_reply_to_user_id_str', \n",
    "                      u'lang', u'place',   u'retweet_count', u'retweeted', u'source', \n",
    "                      u'text', u'truncated', u'user']\n",
    "\n",
    "    #set the columns in the dataframe to match the json fields of the twitter streaming api\n",
    "    for t in twitter_fields:\n",
    "        tempDF[t] = map(lambda tweet: tweet[t] if tweet[t] else 'None', raw_data)\n",
    "    tempDF['followers_count'] = map(lambda tweet: tweet['user']['followers_count'] if tweet['user'] != None else None, raw_data)\n",
    "    tempDF['country'] = map(lambda tweet: tweet['place']['country'] if tweet['place'] != None else None, raw_data)\n",
    "    \n",
    "    \n",
    "    \n",
    "    tempDF['movie'] = file\n",
    "\n",
    "    tweets = tweets.append(tempDF)"
   ]
  },
  {
   "cell_type": "code",
   "execution_count": 2,
   "metadata": {
    "collapsed": false
   },
   "outputs": [
    {
     "name": "stdout",
     "output_type": "stream",
     "text": [
      "289220\n"
     ]
    },
    {
     "data": {
      "text/html": [
       "<div>\n",
       "<table border=\"1\" class=\"dataframe\">\n",
       "  <thead>\n",
       "    <tr style=\"text-align: right;\">\n",
       "      <th></th>\n",
       "      <th>contributors</th>\n",
       "      <th>coordinates</th>\n",
       "      <th>created_at</th>\n",
       "      <th>entities</th>\n",
       "      <th>favorite_count</th>\n",
       "      <th>favorited</th>\n",
       "      <th>geo</th>\n",
       "      <th>id</th>\n",
       "      <th>id_str</th>\n",
       "      <th>in_reply_to_screen_name</th>\n",
       "      <th>...</th>\n",
       "      <th>place</th>\n",
       "      <th>retweet_count</th>\n",
       "      <th>retweeted</th>\n",
       "      <th>source</th>\n",
       "      <th>text</th>\n",
       "      <th>truncated</th>\n",
       "      <th>user</th>\n",
       "      <th>followers_count</th>\n",
       "      <th>country</th>\n",
       "      <th>movie</th>\n",
       "    </tr>\n",
       "  </thead>\n",
       "  <tbody>\n",
       "    <tr>\n",
       "      <th>0</th>\n",
       "      <td>None</td>\n",
       "      <td>None</td>\n",
       "      <td>Tue Dec 15 15:37:24 +0000 2015</td>\n",
       "      <td>{u'symbols': [], u'user_mentions': [], u'hasht...</td>\n",
       "      <td>None</td>\n",
       "      <td>None</td>\n",
       "      <td>None</td>\n",
       "      <td>676788152732815361</td>\n",
       "      <td>676788152732815361</td>\n",
       "      <td>None</td>\n",
       "      <td>...</td>\n",
       "      <td>None</td>\n",
       "      <td>None</td>\n",
       "      <td>None</td>\n",
       "      <td>&lt;a href=\"http://twittbot.net/\" rel=\"nofollow\"&gt;...</td>\n",
       "      <td>Ace Ventura: When Nature Calls #fullmovie ▶ ht...</td>\n",
       "      <td>None</td>\n",
       "      <td>{u'follow_request_sent': None, u'has_extended_...</td>\n",
       "      <td>8</td>\n",
       "      <td>None</td>\n",
       "      <td>aceventura_tweets.txt</td>\n",
       "    </tr>\n",
       "    <tr>\n",
       "      <th>1</th>\n",
       "      <td>None</td>\n",
       "      <td>None</td>\n",
       "      <td>Tue Dec 15 12:57:24 +0000 2015</td>\n",
       "      <td>{u'symbols': [], u'user_mentions': [{u'indices...</td>\n",
       "      <td>None</td>\n",
       "      <td>None</td>\n",
       "      <td>None</td>\n",
       "      <td>676747887724748800</td>\n",
       "      <td>676747887724748800</td>\n",
       "      <td>HANUM_movie</td>\n",
       "      <td>...</td>\n",
       "      <td>None</td>\n",
       "      <td>None</td>\n",
       "      <td>None</td>\n",
       "      <td>&lt;a href=\"http://twittbot.net/\" rel=\"nofollow\"&gt;...</td>\n",
       "      <td>@HANUM_movie Ace Ventura: When Nature Calls fu...</td>\n",
       "      <td>None</td>\n",
       "      <td>{u'follow_request_sent': None, u'has_extended_...</td>\n",
       "      <td>2</td>\n",
       "      <td>None</td>\n",
       "      <td>aceventura_tweets.txt</td>\n",
       "    </tr>\n",
       "    <tr>\n",
       "      <th>2</th>\n",
       "      <td>None</td>\n",
       "      <td>None</td>\n",
       "      <td>Tue Dec 15 01:51:14 +0000 2015</td>\n",
       "      <td>{u'symbols': [], u'user_mentions': [], u'hasht...</td>\n",
       "      <td>None</td>\n",
       "      <td>None</td>\n",
       "      <td>None</td>\n",
       "      <td>676580243134480386</td>\n",
       "      <td>676580243134480386</td>\n",
       "      <td>None</td>\n",
       "      <td>...</td>\n",
       "      <td>None</td>\n",
       "      <td>None</td>\n",
       "      <td>None</td>\n",
       "      <td>&lt;a href=\"http://twitter.com/#!/download/ipad\" ...</td>\n",
       "      <td>Ace Ventura: When Nature Calls Soundtrack - An...</td>\n",
       "      <td>None</td>\n",
       "      <td>{u'follow_request_sent': None, u'has_extended_...</td>\n",
       "      <td>42</td>\n",
       "      <td>None</td>\n",
       "      <td>aceventura_tweets.txt</td>\n",
       "    </tr>\n",
       "    <tr>\n",
       "      <th>3</th>\n",
       "      <td>None</td>\n",
       "      <td>None</td>\n",
       "      <td>Tue Dec 15 00:36:29 +0000 2015</td>\n",
       "      <td>{u'symbols': [], u'user_mentions': [], u'hasht...</td>\n",
       "      <td>None</td>\n",
       "      <td>None</td>\n",
       "      <td>None</td>\n",
       "      <td>676561431479762944</td>\n",
       "      <td>676561431479762944</td>\n",
       "      <td>None</td>\n",
       "      <td>...</td>\n",
       "      <td>None</td>\n",
       "      <td>None</td>\n",
       "      <td>None</td>\n",
       "      <td>&lt;a href=\"http://127.0.0.1\" rel=\"nofollow\"&gt;Lili...</td>\n",
       "      <td>\"Ace Ventura - When Nature Calls\" (1995) is an...</td>\n",
       "      <td>None</td>\n",
       "      <td>{u'follow_request_sent': None, u'has_extended_...</td>\n",
       "      <td>120</td>\n",
       "      <td>None</td>\n",
       "      <td>aceventura_tweets.txt</td>\n",
       "    </tr>\n",
       "    <tr>\n",
       "      <th>4</th>\n",
       "      <td>None</td>\n",
       "      <td>None</td>\n",
       "      <td>Mon Dec 14 04:34:15 +0000 2015</td>\n",
       "      <td>{u'symbols': [], u'user_mentions': [], u'hasht...</td>\n",
       "      <td>None</td>\n",
       "      <td>None</td>\n",
       "      <td>None</td>\n",
       "      <td>676258878611431424</td>\n",
       "      <td>676258878611431424</td>\n",
       "      <td>None</td>\n",
       "      <td>...</td>\n",
       "      <td>None</td>\n",
       "      <td>None</td>\n",
       "      <td>None</td>\n",
       "      <td>&lt;a href=\"http://twitter.com/download/iphone\" r...</td>\n",
       "      <td>#PostYourFavoriteStarWarsCharacter Is Jim Carr...</td>\n",
       "      <td>None</td>\n",
       "      <td>{u'follow_request_sent': None, u'has_extended_...</td>\n",
       "      <td>665</td>\n",
       "      <td>None</td>\n",
       "      <td>aceventura_tweets.txt</td>\n",
       "    </tr>\n",
       "  </tbody>\n",
       "</table>\n",
       "<p>5 rows × 25 columns</p>\n",
       "</div>"
      ],
      "text/plain": [
       "  contributors coordinates                      created_at  \\\n",
       "0         None        None  Tue Dec 15 15:37:24 +0000 2015   \n",
       "1         None        None  Tue Dec 15 12:57:24 +0000 2015   \n",
       "2         None        None  Tue Dec 15 01:51:14 +0000 2015   \n",
       "3         None        None  Tue Dec 15 00:36:29 +0000 2015   \n",
       "4         None        None  Mon Dec 14 04:34:15 +0000 2015   \n",
       "\n",
       "                                            entities favorite_count favorited  \\\n",
       "0  {u'symbols': [], u'user_mentions': [], u'hasht...           None      None   \n",
       "1  {u'symbols': [], u'user_mentions': [{u'indices...           None      None   \n",
       "2  {u'symbols': [], u'user_mentions': [], u'hasht...           None      None   \n",
       "3  {u'symbols': [], u'user_mentions': [], u'hasht...           None      None   \n",
       "4  {u'symbols': [], u'user_mentions': [], u'hasht...           None      None   \n",
       "\n",
       "    geo                  id              id_str in_reply_to_screen_name  \\\n",
       "0  None  676788152732815361  676788152732815361                    None   \n",
       "1  None  676747887724748800  676747887724748800             HANUM_movie   \n",
       "2  None  676580243134480386  676580243134480386                    None   \n",
       "3  None  676561431479762944  676561431479762944                    None   \n",
       "4  None  676258878611431424  676258878611431424                    None   \n",
       "\n",
       "           ...           place retweet_count retweeted  \\\n",
       "0          ...            None          None      None   \n",
       "1          ...            None          None      None   \n",
       "2          ...            None          None      None   \n",
       "3          ...            None          None      None   \n",
       "4          ...            None          None      None   \n",
       "\n",
       "                                              source  \\\n",
       "0  <a href=\"http://twittbot.net/\" rel=\"nofollow\">...   \n",
       "1  <a href=\"http://twittbot.net/\" rel=\"nofollow\">...   \n",
       "2  <a href=\"http://twitter.com/#!/download/ipad\" ...   \n",
       "3  <a href=\"http://127.0.0.1\" rel=\"nofollow\">Lili...   \n",
       "4  <a href=\"http://twitter.com/download/iphone\" r...   \n",
       "\n",
       "                                                text truncated  \\\n",
       "0  Ace Ventura: When Nature Calls #fullmovie ▶ ht...      None   \n",
       "1  @HANUM_movie Ace Ventura: When Nature Calls fu...      None   \n",
       "2  Ace Ventura: When Nature Calls Soundtrack - An...      None   \n",
       "3  \"Ace Ventura - When Nature Calls\" (1995) is an...      None   \n",
       "4  #PostYourFavoriteStarWarsCharacter Is Jim Carr...      None   \n",
       "\n",
       "                                                user followers_count country  \\\n",
       "0  {u'follow_request_sent': None, u'has_extended_...               8    None   \n",
       "1  {u'follow_request_sent': None, u'has_extended_...               2    None   \n",
       "2  {u'follow_request_sent': None, u'has_extended_...              42    None   \n",
       "3  {u'follow_request_sent': None, u'has_extended_...             120    None   \n",
       "4  {u'follow_request_sent': None, u'has_extended_...             665    None   \n",
       "\n",
       "                   movie  \n",
       "0  aceventura_tweets.txt  \n",
       "1  aceventura_tweets.txt  \n",
       "2  aceventura_tweets.txt  \n",
       "3  aceventura_tweets.txt  \n",
       "4  aceventura_tweets.txt  \n",
       "\n",
       "[5 rows x 25 columns]"
      ]
     },
     "execution_count": 2,
     "metadata": {},
     "output_type": "execute_result"
    }
   ],
   "source": [
    "print len(tweets)\n",
    "tweets.head()\n"
   ]
  },
  {
   "cell_type": "markdown",
   "metadata": {},
   "source": [
    "# Do an initial analysis of the data"
   ]
  },
  {
   "cell_type": "code",
   "execution_count": 3,
   "metadata": {
    "collapsed": false
   },
   "outputs": [
    {
     "data": {
      "text/plain": [
       "0                    Ace Ventura: When Nature Calls #fullmovie ▶ https://t.co/rITr6ycrve #myfirsttweet nederland xvideos\n",
       "1                                       @HANUM_movie Ace Ventura: When Nature Calls full movie ▶ https://t.co/o8Ho1AGqqe\n",
       "2                              Ace Ventura: When Nature Calls Soundtrack - Angelique Kidjo - Ife https://t.co/yNEarNDNrO\n",
       "3                         \"Ace Ventura - When Nature Calls\" (1995) is an annoying movie (D) #DallasCritic &lt;nzdj0h&gt;\n",
       "4    #PostYourFavoriteStarWarsCharacter Is Jim Carrey's best performance in THE MASK or ACE VENTURA WHEN NATURE CALLS???\n",
       "Name: text, dtype: object"
      ]
     },
     "execution_count": 3,
     "metadata": {},
     "output_type": "execute_result"
    }
   ],
   "source": [
    "#View the first 5 tweets of the dataset\n",
    "pd.set_option('max_colwidth', 200)\n",
    "tweets['text'].head()"
   ]
  },
  {
   "cell_type": "code",
   "execution_count": 4,
   "metadata": {
    "collapsed": false
   },
   "outputs": [
    {
     "data": {
      "text/plain": [
       "<matplotlib.axes._subplots.AxesSubplot at 0x10637ac50>"
      ]
     },
     "execution_count": 4,
     "metadata": {},
     "output_type": "execute_result"
    },
    {
     "data": {
      "image/png": "[encoded data removed]",
      "text/plain": [
       "<matplotlib.figure.Figure at 0x108f1d310>"
      ]
     },
     "metadata": {},
     "output_type": "display_data"
    }
   ],
   "source": [
    "#view the top 5 languages present in the dataset\n",
    "tweets_by_lang = tweets['lang'].value_counts()\n",
    "fig, ax = plt.subplots()\n",
    "ax.tick_params(axis='x', labelsize=15)\n",
    "ax.tick_params(axis='y', labelsize=10)\n",
    "ax.set_xlabel('Languages', fontsize=15)\n",
    "ax.set_ylabel('Number of tweets' , fontsize=15)\n",
    "ax.set_title('Top 5 languages', fontsize=15, fontweight='bold')\n",
    "tweets_by_lang[:5].plot(ax=ax, kind='bar', color='red')"
   ]
  },
  {
   "cell_type": "code",
   "execution_count": 5,
   "metadata": {
    "collapsed": false,
    "scrolled": true
   },
   "outputs": [
    {
     "data": {
      "text/plain": [
       "<matplotlib.axes._subplots.AxesSubplot at 0x1257df310>"
      ]
     },
     "execution_count": 5,
     "metadata": {},
     "output_type": "execute_result"
    },
    {
     "data": {
      "image/png": "[encoded data removed]",
      "text/plain": [
       "<matplotlib.figure.Figure at 0x12581fe10>"
      ]
     },
     "metadata": {},
     "output_type": "display_data"
    }
   ],
   "source": [
    "#view the top 5 countries in the dataset - not many rows had a value for this field\n",
    "tweets_by_country = tweets['country'].value_counts()\n",
    "fig, ax = plt.subplots()\n",
    "ax.tick_params(axis='x', labelsize=15)\n",
    "ax.tick_params(axis='y', labelsize=10)\n",
    "ax.set_xlabel('Countries', fontsize=15)\n",
    "ax.set_ylabel('Number of tweets' , fontsize=15)\n",
    "ax.set_title('Top 5 countries', fontsize=15, fontweight='bold')\n",
    "tweets_by_country[:5].plot(ax=ax, kind='bar', color='blue')"
   ]
  },
  {
   "cell_type": "code",
   "execution_count": 6,
   "metadata": {
    "collapsed": false
   },
   "outputs": [
    {
     "name": "stdout",
     "output_type": "stream",
     "text": [
      "0                    Ace Ventura: When Nature Calls #fullmovie ▶ https://t.co/rITr6ycrve #myfirsttweet nederland xvideos\n",
      "1                                       @HANUM_movie Ace Ventura: When Nature Calls full movie ▶ https://t.co/o8Ho1AGqqe\n",
      "2                              Ace Ventura: When Nature Calls Soundtrack - Angelique Kidjo - Ife https://t.co/yNEarNDNrO\n",
      "3                         \"Ace Ventura - When Nature Calls\" (1995) is an annoying movie (D) #DallasCritic &lt;nzdj0h&gt;\n",
      "4    #PostYourFavoriteStarWarsCharacter Is Jim Carrey's best performance in THE MASK or ACE VENTURA WHEN NATURE CALLS???\n",
      "Name: text, dtype: object\n",
      "\n",
      "\n",
      "There are 212200 tweets in English\n"
     ]
    }
   ],
   "source": [
    "#we filter out languages other than English\n",
    "tweets = pd.DataFrame(tweets[tweets['lang'] == 'en'])\n",
    "\n",
    "print tweets['text'].head()\n",
    "print \"\\n\"\n",
    "print \"There are\", len(tweets), 'tweets in English'"
   ]
  },
  {
   "cell_type": "code",
   "execution_count": 7,
   "metadata": {
    "collapsed": true
   },
   "outputs": [],
   "source": [
    "import re\n",
    "#create a function to find the word in the tweet text field\n",
    "def word_in_text(word, text):\n",
    "    word = word.lower()\n",
    "    text = text.lower()\n",
    "    match = re.search(word, text)\n",
    "    if match:\n",
    "        return True\n",
    "    return False"
   ]
  },
  {
   "cell_type": "markdown",
   "metadata": {
    "collapsed": true
   },
   "source": [
    "# Pass the data with to Spark for text processing"
   ]
  },
  {
   "cell_type": "code",
   "execution_count": 8,
   "metadata": {
    "collapsed": true
   },
   "outputs": [],
   "source": [
    "from pattern.en import parse\n",
    "from pattern.en import pprint\n",
    "from pattern.vector import stem, PORTER, LEMMA\n",
    "from sklearn.feature_extraction import text\n",
    "from gensim import corpora "
   ]
  },
  {
   "cell_type": "code",
   "execution_count": 9,
   "metadata": {
    "collapsed": false
   },
   "outputs": [
    {
     "name": "stdout",
     "output_type": "stream",
     "text": [
      "/usr/local/Cellar/apache-spark/1.5.2/libexec/\n"
     ]
    }
   ],
   "source": [
    "import findspark\n",
    "findspark.init()\n",
    "print findspark.find()"
   ]
  },
  {
   "cell_type": "code",
   "execution_count": 10,
   "metadata": {
    "collapsed": true
   },
   "outputs": [],
   "source": [
    "import pyspark"
   ]
  },
  {
   "cell_type": "code",
   "execution_count": 11,
   "metadata": {
    "collapsed": true
   },
   "outputs": [],
   "source": [
    "def get_parts(thetext, punc='.,;:!?()[]{}`''\\\"@#$^&*+-|=~_'):\n",
    "    # generate stopwords list & regexes for 2+ periods or 2+ dashes\n",
    "    stop = text.ENGLISH_STOP_WORDS\n",
    "    regex1=re.compile(r\"\\.{2,}\")\n",
    "    regex2=re.compile(r\"\\-{2,}\")\n",
    "    thetext=re.sub(regex1, ' ', thetext)\n",
    "    thetext=re.sub(regex2, ' ', thetext)\n",
    "    punctuation = list(punc)\n",
    "    nouns=[]\n",
    "    descriptives=[]\n",
    "    for i,sentence in enumerate(parse(thetext, tokenize=True, lemmata=True).split()):\n",
    "        nouns.append([])\n",
    "        descriptives.append([])\n",
    "        for token in sentence:\n",
    "            if len(token[4]) >0:\n",
    "                if token[1] in ['JJ', 'JJR', 'JJS']:\n",
    "                    if token[4] in stop or token[4][0] in punctuation or token[4][-1] in punctuation or len(token[4])==1:\n",
    "                        continue\n",
    "                    descriptives[i].append(token[4])\n",
    "                elif token[1] in ['NN', 'NNS']:\n",
    "                    if token[4] in stop or token[4][0] in punctuation or token[4][-1] in punctuation or len(token[4])==1:\n",
    "                        continue\n",
    "                    nouns[i].append(token[4])\n",
    "    out=zip(nouns, descriptives)\n",
    "    nouns2=[]\n",
    "    descriptives2=[]\n",
    "    for n,d in out:\n",
    "        if len(n)!=0 and len(d)!=0:\n",
    "            nouns2.append(n)\n",
    "            descriptives2.append(d)\n",
    "    return nouns2, descriptives2"
   ]
  },
  {
   "cell_type": "code",
   "execution_count": 12,
   "metadata": {
    "collapsed": true
   },
   "outputs": [],
   "source": [
    "# initialize Spark context\n",
    "conf = pyspark.SparkConf().setAppName(\"Twitter_Movies\").setMaster(\"local[*]\")\n",
    "sc = pyspark.SparkContext(conf=conf)"
   ]
  },
  {
   "cell_type": "code",
   "execution_count": 13,
   "metadata": {
    "collapsed": false
   },
   "outputs": [],
   "source": [
    "# get tweets from text file\n",
    "#text_lines = sc.textFile('tweets_all@#_7591.json')\n",
    "#tweets = text_lines.map(json.loads)\n",
    "#tweets_text = tweets.map(lambda t: t['text'])\n",
    "\n",
    "# read tweets & associated movies into Spark\n",
    "tweets_text = sc.parallelize([(row['movie'],row['text']) for index, row in tweets.iterrows()])"
   ]
  },
  {
   "cell_type": "markdown",
   "metadata": {},
   "source": [
    "# Sentiment of a sentence based on log probs in a word list"
   ]
  },
  {
   "cell_type": "markdown",
   "metadata": {},
   "source": [
    "Function to read the word list file:"
   ]
  },
  {
   "cell_type": "code",
   "execution_count": 14,
   "metadata": {
    "collapsed": true
   },
   "outputs": [],
   "source": [
    "import numpy as np\n",
    "# read the word list\n",
    "def readSentimentList(file_name):\n",
    "    ifile = open(file_name, 'r')\n",
    "    happy_log_probs = {}\n",
    "    sad_log_probs = {}\n",
    "    ifile.readline() #Ignore title row\n",
    "    # splitting the csv\n",
    "    for line in ifile:\n",
    "        tokens = line[:-1].split(',')\n",
    "        happy_log_probs[tokens[0]] = float(tokens[1])\n",
    "        sad_log_probs[tokens[0]] = float(tokens[2])\n",
    "\n",
    "    return happy_log_probs, sad_log_probs"
   ]
  },
  {
   "cell_type": "markdown",
   "metadata": {},
   "source": [
    "Using Naive Bayes rule:"
   ]
  },
  {
   "cell_type": "code",
   "execution_count": 15,
   "metadata": {
    "collapsed": true
   },
   "outputs": [],
   "source": [
    "def classifySentiment(words, happy_log_probs, sad_log_probs):\n",
    "    # get the log-probability of each word under each sentiment\n",
    "    happy_probs = [happy_log_probs[word] for word in words if word in happy_log_probs]\n",
    "    sad_probs = [sad_log_probs[word] for word in words if word in sad_log_probs]\n",
    "\n",
    "    # sum all the log-probabilities for each sentiment to get a log-probability for the whole tweet\n",
    "    tweet_happy_log_prob = np.sum(happy_probs)\n",
    "    tweet_sad_log_prob = np.sum(sad_probs)\n",
    "\n",
    "    # calculate the probability of the tweet belonging to each sentiment\n",
    "    prob_happy = np.reciprocal(np.exp(tweet_sad_log_prob - tweet_happy_log_prob) + 1)\n",
    "    prob_sad = 1 - prob_happy\n",
    "\n",
    "    return prob_happy, prob_sad"
   ]
  },
  {
   "cell_type": "markdown",
   "metadata": {},
   "source": [
    "Load the word list:"
   ]
  },
  {
   "cell_type": "code",
   "execution_count": 16,
   "metadata": {
    "collapsed": true
   },
   "outputs": [],
   "source": [
    "# load list of words and log probs\n",
    "happy_log_probs, sad_log_probs = readSentimentList('wordlist.csv')"
   ]
  },
  {
   "cell_type": "markdown",
   "metadata": {},
   "source": [
    "Reading in the tweet:"
   ]
  },
  {
   "cell_type": "code",
   "execution_count": 17,
   "metadata": {
    "collapsed": false
   },
   "outputs": [
    {
     "name": "stdout",
     "output_type": "stream",
     "text": [
      "['my', 'love', 'bambi', '']\n",
      "happy probability:  0.954107296677\n",
      "sad probability: 0.0458927033232\n"
     ]
    }
   ],
   "source": [
    "# read tweet\n",
    "tweet1 = ['my', 'love', 'bambi', '']\n",
    "\n",
    "# calculate the probability\n",
    "tweet1_happy_prob, tweet1_sad_prob = classifySentiment(tweet1, happy_log_probs, sad_log_probs)\n",
    "\n",
    "print tweet1 \n",
    "print \"happy probability: \" , tweet1_happy_prob \n",
    "print \"sad probability:\", tweet1_sad_prob"
   ]
  },
  {
   "cell_type": "code",
   "execution_count": 18,
   "metadata": {
    "collapsed": false
   },
   "outputs": [],
   "source": [
    "# get words out for sentiment analysis\n",
    "puncs = '.,;:!?()[]{}`''\\\"@#$^&*+-|=~_'\n",
    "sentiment_words = tweets_text.mapValues(lambda t: t.strip(puncs).split())\n",
    "\n",
    "# classify sentiment of tweet\n",
    "tweets_probs = sentiment_words.mapValues(lambda ws: classifySentiment(ws, happy_log_probs, sad_log_probs))\n",
    "happy_probs = tweets_probs.mapValues(lambda (hprob, sprob): (hprob, 1))\n",
    "sad_probs = tweets_probs.mapValues(lambda (hprob, sprob): (sprob, 1))"
   ]
  },
  {
   "cell_type": "markdown",
   "metadata": {},
   "source": [
    "Create an df_data_visualization pandas dataframe to use for visualization"
   ]
  },
  {
   "cell_type": "code",
   "execution_count": 19,
   "metadata": {
    "collapsed": false
   },
   "outputs": [],
   "source": [
    "#collect the happy probabilities from the above mapValues call\n",
    "listOfHappyProbs = happy_probs.collect()\n",
    "\n",
    "#create an empty list to contain the just the probability portion of happy_probs\n",
    "HappyProbsList = []\n",
    "for x in range(len(listOfHappyProbs)):\n",
    "    HappyProbsList.append(listOfHappyProbs[x][1][0])\n",
    "\n",
    "#create the following dataframe containing columns of data for visualization\n",
    "# text, movie, positive, prob, created_at, favorite_count, retweet_count, followers_count\n",
    "df_data_visualization = pd.DataFrame()\n",
    "df_data_visualization['created_at'] = tweets['created_at']\n",
    "df_data_visualization['favorite_count'] = tweets['favorite_count']\n",
    "df_data_visualization['retweet_count'] = tweets['retweet_count']\n",
    "df_data_visualization['followers_count'] = tweets['followers_count']\n",
    "df_data_visualization['movie'] = tweets['movie']\n",
    "\n",
    "df_data_visualization['prob'] = HappyProbsList\n",
    "\n",
    "#a function to set a 1 if the happy probability is greater than .5 otherwise set it to 0\n",
    "#we will use this for the visualization aspect\n",
    "def setPositiveValues(row):\n",
    "    if row['prob'] > 0.5:\n",
    "        return 1\n",
    "    else:\n",
    "        return 0\n",
    "\n",
    "#run the function on the prob column to create the positive column to determine if a tweet is positive or negative\n",
    "#from the happy probability\n",
    "df_data_visualization['positive'] = df_data_visualization.apply(setPositiveValues, axis=1)\n",
    "\n",
    "#create the text column, remove the newlines from the text to resolve an issue with row creation in the .to_csv call\n",
    "df_data_visualization['text'] = tweets['text'].str.replace('\\n',\"\")"
   ]
  },
  {
   "cell_type": "code",
   "execution_count": 20,
   "metadata": {
    "collapsed": false
   },
   "outputs": [
    {
     "data": {
      "text/plain": [
       "0                    Ace Ventura: When Nature Calls #fullmovie ▶ https://t.co/rITr6ycrve #myfirsttweet nederland xvideos\n",
       "1                                       @HANUM_movie Ace Ventura: When Nature Calls full movie ▶ https://t.co/o8Ho1AGqqe\n",
       "2                              Ace Ventura: When Nature Calls Soundtrack - Angelique Kidjo - Ife https://t.co/yNEarNDNrO\n",
       "3                         \"Ace Ventura - When Nature Calls\" (1995) is an annoying movie (D) #DallasCritic &lt;nzdj0h&gt;\n",
       "4    #PostYourFavoriteStarWarsCharacter Is Jim Carrey's best performance in THE MASK or ACE VENTURA WHEN NATURE CALLS???\n",
       "Name: text, dtype: object"
      ]
     },
     "execution_count": 20,
     "metadata": {},
     "output_type": "execute_result"
    }
   ],
   "source": [
    "tweets['text'].head()"
   ]
  },
  {
   "cell_type": "markdown",
   "metadata": {},
   "source": [
    "# Twitter Critic Analysis of Movies"
   ]
  },
  {
   "cell_type": "markdown",
   "metadata": {},
   "source": [
    "Use the dataframe with the 'movie' column"
   ]
  },
  {
   "cell_type": "code",
   "execution_count": 21,
   "metadata": {
    "collapsed": false
   },
   "outputs": [
    {
     "data": {
      "text/html": [
       "<div>\n",
       "<table border=\"1\" class=\"dataframe\">\n",
       "  <thead>\n",
       "    <tr style=\"text-align: right;\">\n",
       "      <th></th>\n",
       "      <th>created_at</th>\n",
       "      <th>favorite_count</th>\n",
       "      <th>retweet_count</th>\n",
       "      <th>followers_count</th>\n",
       "      <th>movie</th>\n",
       "      <th>prob</th>\n",
       "      <th>positive</th>\n",
       "      <th>text</th>\n",
       "    </tr>\n",
       "  </thead>\n",
       "  <tbody>\n",
       "    <tr>\n",
       "      <th>0</th>\n",
       "      <td>Tue Dec 15 15:37:24 +0000 2015</td>\n",
       "      <td>None</td>\n",
       "      <td>None</td>\n",
       "      <td>8</td>\n",
       "      <td>aceventura_tweets.txt</td>\n",
       "      <td>0.500000</td>\n",
       "      <td>0</td>\n",
       "      <td>Ace Ventura: When Nature Calls #fullmovie ▶ https://t.co/rITr6ycrve #myfirsttweet nederland xvideos</td>\n",
       "    </tr>\n",
       "    <tr>\n",
       "      <th>1</th>\n",
       "      <td>Tue Dec 15 12:57:24 +0000 2015</td>\n",
       "      <td>None</td>\n",
       "      <td>None</td>\n",
       "      <td>2</td>\n",
       "      <td>aceventura_tweets.txt</td>\n",
       "      <td>0.927499</td>\n",
       "      <td>1</td>\n",
       "      <td>@HANUM_movie Ace Ventura: When Nature Calls full movie ▶ https://t.co/o8Ho1AGqqe</td>\n",
       "    </tr>\n",
       "    <tr>\n",
       "      <th>2</th>\n",
       "      <td>Tue Dec 15 01:51:14 +0000 2015</td>\n",
       "      <td>None</td>\n",
       "      <td>None</td>\n",
       "      <td>42</td>\n",
       "      <td>aceventura_tweets.txt</td>\n",
       "      <td>0.500000</td>\n",
       "      <td>0</td>\n",
       "      <td>Ace Ventura: When Nature Calls Soundtrack - Angelique Kidjo - Ife https://t.co/yNEarNDNrO</td>\n",
       "    </tr>\n",
       "    <tr>\n",
       "      <th>3</th>\n",
       "      <td>Tue Dec 15 00:36:29 +0000 2015</td>\n",
       "      <td>None</td>\n",
       "      <td>None</td>\n",
       "      <td>120</td>\n",
       "      <td>aceventura_tweets.txt</td>\n",
       "      <td>0.825694</td>\n",
       "      <td>1</td>\n",
       "      <td>\"Ace Ventura - When Nature Calls\" (1995) is an annoying movie (D) #DallasCritic &amp;lt;nzdj0h&amp;gt;</td>\n",
       "    </tr>\n",
       "    <tr>\n",
       "      <th>4</th>\n",
       "      <td>Mon Dec 14 04:34:15 +0000 2015</td>\n",
       "      <td>None</td>\n",
       "      <td>None</td>\n",
       "      <td>665</td>\n",
       "      <td>aceventura_tweets.txt</td>\n",
       "      <td>0.972928</td>\n",
       "      <td>1</td>\n",
       "      <td>#PostYourFavoriteStarWarsCharacter Is Jim Carrey's best performance in THE MASK or ACE VENTURA WHEN NATURE CALLS???</td>\n",
       "    </tr>\n",
       "  </tbody>\n",
       "</table>\n",
       "</div>"
      ],
      "text/plain": [
       "                       created_at favorite_count retweet_count  \\\n",
       "0  Tue Dec 15 15:37:24 +0000 2015           None          None   \n",
       "1  Tue Dec 15 12:57:24 +0000 2015           None          None   \n",
       "2  Tue Dec 15 01:51:14 +0000 2015           None          None   \n",
       "3  Tue Dec 15 00:36:29 +0000 2015           None          None   \n",
       "4  Mon Dec 14 04:34:15 +0000 2015           None          None   \n",
       "\n",
       "   followers_count                  movie      prob  positive  \\\n",
       "0                8  aceventura_tweets.txt  0.500000         0   \n",
       "1                2  aceventura_tweets.txt  0.927499         1   \n",
       "2               42  aceventura_tweets.txt  0.500000         0   \n",
       "3              120  aceventura_tweets.txt  0.825694         1   \n",
       "4              665  aceventura_tweets.txt  0.972928         1   \n",
       "\n",
       "                                                                                                                  text  \n",
       "0                  Ace Ventura: When Nature Calls #fullmovie ▶ https://t.co/rITr6ycrve #myfirsttweet nederland xvideos  \n",
       "1                                     @HANUM_movie Ace Ventura: When Nature Calls full movie ▶ https://t.co/o8Ho1AGqqe  \n",
       "2                            Ace Ventura: When Nature Calls Soundtrack - Angelique Kidjo - Ife https://t.co/yNEarNDNrO  \n",
       "3                       \"Ace Ventura - When Nature Calls\" (1995) is an annoying movie (D) #DallasCritic &lt;nzdj0h&gt;  \n",
       "4  #PostYourFavoriteStarWarsCharacter Is Jim Carrey's best performance in THE MASK or ACE VENTURA WHEN NATURE CALLS???  "
      ]
     },
     "execution_count": 21,
     "metadata": {},
     "output_type": "execute_result"
    }
   ],
   "source": [
    "df_data_visualization.head()"
   ]
  },
  {
   "cell_type": "code",
   "execution_count": 33,
   "metadata": {
    "collapsed": false
   },
   "outputs": [
    {
     "name": "stdout",
     "output_type": "stream",
     "text": [
      "\n",
      "\n",
      "Our Twitter Critic thinks - \n",
      "\n",
      "\n",
      "There is 67.81% positive sentiment about aceventura_tweets.txt\n",
      "\n",
      "\n",
      "There is 77.69% positive sentiment about Assassins_tweets.txt\n",
      "\n",
      "\n",
      "There is 75.65% positive sentiment about balto_tweets.txt\n",
      "\n",
      "\n",
      "There is 92.93% positive sentiment about casino_tweets.txt\n",
      "\n",
      "\n",
      "There is 81.95% positive sentiment about cityoflostchildren_tweets.txt\n",
      "\n",
      "\n",
      "There is 96.00% positive sentiment about copycat_tweets.txt\n",
      "\n",
      "\n",
      "There is 76.28% positive sentiment about cutthroatisland_tweets.txt\n",
      "\n",
      "\n",
      "There is 81.39% positive sentiment about dracula_tweets.txt\n",
      "\n",
      "\n",
      "There is 94.91% positive sentiment about getshorty_tweets.txt\n",
      "\n",
      "\n",
      "There is 80.62% positive sentiment about LeavingLasVegas_tweets.txt\n",
      "\n",
      "\n",
      "There is 92.32% positive sentiment about moneytrain_tweets.txt\n",
      "\n",
      "\n",
      "There is 82.32% positive sentiment about nixon_tweets_weak.txt\n",
      "\n",
      "\n",
      "There is 89.92% positive sentiment about nowandthen_tweets.txt\n",
      "\n",
      "\n",
      "There is 82.29% positive sentiment about othello_tweets.txt\n",
      "\n",
      "\n",
      "There is 86.09% positive sentiment about Persuasion_tweets.txt\n",
      "\n",
      "\n",
      "There is 91.32% positive sentiment about Powder_tweets.txt\n",
      "\n",
      "\n",
      "There is 79.66% positive sentiment about senseandsensibility_tweets.txt\n",
      "\n",
      "\n",
      "There is 79.85% positive sentiment about starwars_tweets.txt\n",
      "\n",
      "\n",
      "There is 71.85% positive sentiment about thehungergames_tweets.txt\n",
      "\n",
      "\n"
     ]
    }
   ],
   "source": [
    "\n",
    "probDF = pd.DataFrame()\n",
    "#get the names of the files to iterate the different types of movies\n",
    "for file in filelist:\n",
    "    \n",
    "    probDF[file] = df_data_visualization[df_data_visualization.movie == file].prob\n",
    "    \n",
    "\n",
    "probDF.drop('.DS_Store', axis=1,inplace=True)   \n",
    "\n",
    "\n",
    "columns = [u'aceventura_tweets.txt', u'Assassins_tweets.txt', u'balto_tweets.txt',\n",
    "       u'casino_tweets.txt', u'cityoflostchildren_tweets.txt',\n",
    "       u'copycat_tweets.txt', u'cutthroatisland_tweets.txt',\n",
    "       u'dracula_tweets.txt', u'getshorty_tweets.txt',\n",
    "       u'LeavingLasVegas_tweets.txt', u'moneytrain_tweets.txt',\n",
    "       u'nixon_tweets_weak.txt', u'nowandthen_tweets.txt',\n",
    "       u'othello_tweets.txt', u'Persuasion_tweets.txt', u'Powder_tweets.txt',\n",
    "       u'senseandsensibility_tweets.txt', u'starwars_tweets.txt',\n",
    "       u'thehungergames_tweets.txt']\n",
    "\n",
    "print \"\\n\"\n",
    "print \"Our Twitter Critic thinks - \"\n",
    "print \"\\n\"\n",
    "for x in columns:   \n",
    "    print \"There is {0:.2%}\".format(probDF[x].mean()), 'positive sentiment about ' + x\n",
    "    print \"\\n\"\n",
    "    \n",
    "#I WILL CLEAN UP THE MOVIE TITLES ONCE WE HAVE A FINAL LIST"
   ]
  },
  {
   "cell_type": "code",
   "execution_count": null,
   "metadata": {
    "collapsed": true
   },
   "outputs": [],
   "source": []
  }
 ],
 "metadata": {
  "kernelspec": {
   "display_name": "Python 2",
   "language": "python",
   "name": "python2"
  },
  "language_info": {
   "codemirror_mode": {
    "name": "ipython",
    "version": 2
   },
   "file_extension": ".py",
   "mimetype": "text/x-python",
   "name": "python",
   "nbconvert_exporter": "python",
   "pygments_lexer": "ipython2",
   "version": "2.7.11"
  }
 },
 "nbformat": 4,
 "nbformat_minor": 0
}
